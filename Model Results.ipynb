{
 "cells": [
  {
   "cell_type": "markdown",
   "metadata": {},
   "source": [
    "Both models were able to get classification accuracies around 80% on the test set using a total duration of 3 seconds. We can look a little more into the model results here."
   ]
  },
  {
   "cell_type": "code",
   "execution_count": 1,
   "metadata": {},
   "outputs": [],
   "source": [
    "import os\n",
    "from sklearn.model_selection import train_test_split\n",
    "from sklearn.utils.class_weight import compute_class_weight\n",
    "import numpy as np\n",
    "from tensorflow.keras.models import load_model\n",
    "from models import Recurrent2DConvNet\n",
    "from tqdm import tqdm\n",
    "from sklearn.metrics import accuracy_score, confusion_matrix, f1_score\n",
    "import matplotlib.pyplot as plt\n",
    "import seaborn as sns"
   ]
  },
  {
   "cell_type": "code",
   "execution_count": 2,
   "metadata": {},
   "outputs": [],
   "source": [
    "data_root = '/home/seth/datasets/gut'\n",
    "feats = 'stft'\n",
    "total_dur = 3\n",
    "delta_time = 1.0"
   ]
  },
  {
   "cell_type": "code",
   "execution_count": 3,
   "metadata": {},
   "outputs": [],
   "source": [
    "classes = sorted(['anxiety', 'baseline', 'concentration', 'digestion', 'disgust', 'frustration'])\n",
    "n_classes = len(classes)\n",
    "int2cls = dict(zip(range(len(classes)), classes))\n",
    "cls2int = dict(zip(classes, range(len(classes))))\n",
    "\n",
    "path = os.path.join(data_root, feats)\n",
    "paths = []\n",
    "labels = []\n",
    "\n",
    "for sub_dir in os.listdir(path):\n",
    "    for class_dir in os.listdir(os.path.join(path, sub_dir)):\n",
    "        cls_path = os.path.join(path, sub_dir, class_dir)\n",
    "        files = sorted(os.listdir(cls_path), key=lambda x: int(x.split('.')[0]))\n",
    "        if len(files) < total_dur:\n",
    "            continue\n",
    "        mod = len(files)%total_dur\n",
    "        orig_len = len(files)\n",
    "        for i in range(0, orig_len-mod-total_dur, total_dur):\n",
    "            paths.append(os.path.join(cls_path, files[i]))\n",
    "            labels.append(cls2int[class_dir])\n",
    "\n",
    "sample = np.load(os.path.join(cls_path, files[i]))"
   ]
  },
  {
   "cell_type": "code",
   "execution_count": 4,
   "metadata": {},
   "outputs": [],
   "source": [
    "class_weight = compute_class_weight('balanced',\n",
    "                                    np.unique(labels),\n",
    "                                    labels)"
   ]
  },
  {
   "cell_type": "code",
   "execution_count": 5,
   "metadata": {},
   "outputs": [
    {
     "name": "stdout",
     "output_type": "stream",
     "text": [
      "[0 1 2 3 4 5]\n",
      "[1.02797188 1.01456635 1.38642335 0.72313582 0.73064536 1.75818485]\n"
     ]
    }
   ],
   "source": [
    "print(np.unique(labels))\n",
    "print(class_weight)"
   ]
  },
  {
   "cell_type": "markdown",
   "metadata": {},
   "source": [
    "Data was more balanced than I thought it would be. It looks like digestion was the most frequent class, while frustration was the least frequent."
   ]
  },
  {
   "cell_type": "code",
   "execution_count": 6,
   "metadata": {},
   "outputs": [],
   "source": [
    "X_train, X_test, y_train, y_test = train_test_split(\n",
    "    paths, labels, test_size=0.1, random_state=0)"
   ]
  },
  {
   "cell_type": "markdown",
   "metadata": {},
   "source": [
    "### Computing predictions for each path from the test split"
   ]
  },
  {
   "cell_type": "code",
   "execution_count": 7,
   "metadata": {},
   "outputs": [],
   "source": [
    "feat_dim = int(delta_time*100)\n",
    "time_dim = int(total_dur*sample.shape[0]/feat_dim)\n",
    "# (10, 30, 128, 1)\n",
    "input_shape = (time_dim, feat_dim, sample.shape[1], 1)"
   ]
  },
  {
   "cell_type": "code",
   "execution_count": 8,
   "metadata": {},
   "outputs": [
    {
     "name": "stdout",
     "output_type": "stream",
     "text": [
      "WARNING:tensorflow:From /home/seth/anaconda3/envs/tf/lib/python3.7/site-packages/tensorflow/python/ops/resource_variable_ops.py:435: colocate_with (from tensorflow.python.framework.ops) is deprecated and will be removed in a future version.\n",
      "Instructions for updating:\n",
      "Colocations handled automatically by placer.\n",
      "WARNING:tensorflow:From /home/seth/anaconda3/envs/tf/lib/python3.7/site-packages/tensorflow/python/keras/layers/core.py:143: calling dropout (from tensorflow.python.ops.nn_ops) with keep_prob is deprecated and will be removed in a future version.\n",
      "Instructions for updating:\n",
      "Please use `rate` instead of `keep_prob`. Rate should be set to `rate = 1 - keep_prob`.\n",
      "_________________________________________________________________\n",
      "Layer (type)                 Output Shape              Param #   \n",
      "=================================================================\n",
      "input_1 (InputLayer)         (None, 3, 100, 128, 1)    0         \n",
      "_________________________________________________________________\n",
      "scale_input (TimeDistributed (None, 3, 100, 128, 1)    0         \n",
      "_________________________________________________________________\n",
      "conv_block_1 (Sequential)    (None, 3, 50, 64, 8)      1248      \n",
      "_________________________________________________________________\n",
      "conv_block_2 (Sequential)    (None, 3, 25, 32, 16)     5808      \n",
      "_________________________________________________________________\n",
      "conv_block_3 (Sequential)    (None, 3, 12, 16, 32)     23136     \n",
      "_________________________________________________________________\n",
      "conv_block_4 (Sequential)    (None, 3, 6, 8, 64)       92352     \n",
      "_________________________________________________________________\n",
      "conv_block_5 (Sequential)    (None, 3, 3, 4, 128)      369024    \n",
      "_________________________________________________________________\n",
      "flatten (TimeDistributed)    (None, 3, 1536)           0         \n",
      "_________________________________________________________________\n",
      "lstm (LSTM)                  (None, 128)               852480    \n",
      "_________________________________________________________________\n",
      "dropout_0.2 (Dropout)        (None, 128)               0         \n",
      "_________________________________________________________________\n",
      "dense (Dense)                (None, 32)                4128      \n",
      "_________________________________________________________________\n",
      "dropout_0.1 (Dropout)        (None, 32)                0         \n",
      "_________________________________________________________________\n",
      "dense_1 (Dense)              (None, 6)                 198       \n",
      "=================================================================\n",
      "Total params: 1,348,374\n",
      "Trainable params: 1,348,374\n",
      "Non-trainable params: 0\n",
      "_________________________________________________________________\n"
     ]
    }
   ],
   "source": [
    "path = os.path.join('models', 'RCNN.h5')\n",
    "model = Recurrent2DConvNet(input_shape=input_shape)\n",
    "model.load_weights(path)"
   ]
  },
  {
   "cell_type": "code",
   "execution_count": 9,
   "metadata": {},
   "outputs": [
    {
     "name": "stderr",
     "output_type": "stream",
     "text": [
      "100%|██████████| 4855/4855 [00:23<00:00, 206.07it/s]\n"
     ]
    }
   ],
   "source": [
    "y_pred = []\n",
    "\n",
    "for path, label in tqdm(zip(X_test, y_test), total=len(y_test)):\n",
    "\n",
    "    base = os.path.split(path)[0]\n",
    "    start_ix = int(os.path.split(path)[-1].split('.npy')[0])\n",
    "    frames = []\n",
    "    for t in range(total_dur):\n",
    "        ix = str(start_ix + (t*100))\n",
    "        path = os.path.join(base, ix+'.npy')\n",
    "        x = np.load(path)\n",
    "        frames.append(x)\n",
    "\n",
    "    x = np.concatenate(frames, axis=0)\n",
    "\n",
    "    frames = []\n",
    "    for z in range(0, input_shape[0]*input_shape[1], input_shape[1]):\n",
    "        _slice = x[z:z+input_shape[1],:]\n",
    "        _slice = np.expand_dims(_slice, axis=0)\n",
    "        frames.append(_slice)\n",
    "    x = np.concatenate(frames, axis=0)\n",
    "    x = np.expand_dims(x, axis=3)\n",
    "    x = np.expand_dims(x, axis=0)\n",
    "    \n",
    "    y_hat = model.predict(x)\n",
    "    y_pred.append(np.argmax(y_hat))"
   ]
  },
  {
   "cell_type": "code",
   "execution_count": 10,
   "metadata": {},
   "outputs": [
    {
     "data": {
      "image/png": "[encoded data removed]",
      "text/plain": [
       "<Figure size 864x864 with 2 Axes>"
      ]
     },
     "metadata": {},
     "output_type": "display_data"
    }
   ],
   "source": [
    "conf_mat = confusion_matrix(y_test, y_pred)\n",
    "conf_mat = conf_mat.astype(dtype=np.float16)\n",
    "for row in range(conf_mat.shape[0]):\n",
    "    conf_mat[row,:] = conf_mat[row,:] / sum(conf_mat[row,:])\n",
    "\n",
    "sns.set(font_scale=1.5)\n",
    "fig, ax = plt.subplots(figsize=(12, 12))\n",
    "plt.title('Confusion Matrix')\n",
    "sns.heatmap(conf_mat, cmap='hot', square=True, xticklabels=classes, yticklabels=classes, label='large')\n",
    "plt.show()"
   ]
  },
  {
   "cell_type": "code",
   "execution_count": 11,
   "metadata": {},
   "outputs": [
    {
     "name": "stdout",
     "output_type": "stream",
     "text": [
      "Accuracy: 0.8218\n",
      "F1 Score: 0.8213\n"
     ]
    }
   ],
   "source": [
    "acc = str(round(accuracy_score(y_test, y_pred), 4))\n",
    "f1 = str(round(f1_score(y_test, y_pred, average='weighted'), 4))\n",
    "print('Accuracy: {}'.format(acc))\n",
    "print('F1 Score: {}'.format(f1))"
   ]
  },
  {
   "cell_type": "markdown",
   "metadata": {},
   "source": [
    "Not bad. Digestion seems to be the easiest to classify, which makes sense since there is physical stimulation in that case. It seems concentration and frustration produced some similar responses. Overall, I was pretty impressed to see results this good, but I think they will go down given the chance to try cross validation."
   ]
  },
  {
   "cell_type": "markdown",
   "metadata": {},
   "source": [
    "### Concerns / steps to improve analysis"
   ]
  },
  {
   "cell_type": "markdown",
   "metadata": {},
   "source": [
    "I'll take some time to mention some things I noticed when looking at the data.\n",
    "\n",
    "One potential major issue is **how the stethoscope was placed for data collection**. If you look at both audio channels, sometimes one is noisier than the other, and even captures different looking data. I'd imagine this happens because of the location where each probe is placed. This could be a source of systematic error, which could throw results into question. One way to test this would be to use cross validation and split based on individual participants. There could also be some variance in the noise floor, which might throw the envelope detection off although I don't think it is very likely. I high pass filtered at 10 hertz to remove any steady state offset in the signal.\n",
    "\n",
    "One way to produce some more convincing results to validate your data size would be to create a **learning curve plot** see: https://scikit-learn.org/stable/modules/learning_curve.html. You increase data size by 0.1 of 1.0 and train the model. Eventually you would hope to see a plateau. If the curve is still increasing, then you might be able to justify more data collection. Either that or discover you have collected enough data to estimate a population.\n",
    "\n",
    "It's a good idea to **evaluate each participant** and use majority voting for each time step and see if it gets the correct classification when looking at all samples as a whole. This could also allow you to see problematic data to test what is going wrong somewhere."
   ]
  }
 ],
 "metadata": {
  "kernelspec": {
   "display_name": "tf",
   "language": "python",
   "name": "tf"
  },
  "language_info": {
   "codemirror_mode": {
    "name": "ipython",
    "version": 3
   },
   "file_extension": ".py",
   "mimetype": "text/x-python",
   "name": "python",
   "nbconvert_exporter": "python",
   "pygments_lexer": "ipython3",
   "version": "3.7.3"
  }
 },
 "nbformat": 4,
 "nbformat_minor": 2
}
